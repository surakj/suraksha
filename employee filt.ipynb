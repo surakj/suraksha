{
 "cells": [
  {
   "cell_type": "code",
   "execution_count": 1,
   "id": "cc5a20d5",
   "metadata": {},
   "outputs": [],
   "source": [
    "import pandas as pd"
   ]
  },
  {
   "cell_type": "code",
   "execution_count": 2,
   "id": "daa58f78",
   "metadata": {},
   "outputs": [],
   "source": [
    "data={\n",
    "    'empno':[101,102,103,104,105],\n",
    "    'ename':['rama','ramya','shree','ram','kiran'],\n",
    "    'qualification':['be','diploma','mtec','bsc','msc'],\n",
    "    'subject':['cs','me','ec','at','ce']\n",
    "    }"
   ]
  },
  {
   "cell_type": "code",
   "execution_count": 3,
   "id": "de7f4a3e",
   "metadata": {},
   "outputs": [
    {
     "name": "stdout",
     "output_type": "stream",
     "text": [
      "   empno  ename qualification subject\n",
      "0    101   rama            be      cs\n",
      "1    102  ramya       diploma      me\n",
      "2    103  shree          mtec      ec\n",
      "3    104    ram           bsc      at\n",
      "4    105  kiran           msc      ce\n"
     ]
    }
   ],
   "source": [
    "df=pd.DataFrame(data)\n",
    "print(df)"
   ]
  },
  {
   "cell_type": "code",
   "execution_count": 5,
   "id": "1006a477",
   "metadata": {},
   "outputs": [
    {
     "name": "stdout",
     "output_type": "stream",
     "text": [
      "0    101\n",
      "1    102\n",
      "2    103\n",
      "3    104\n",
      "4    105\n",
      "Name: empno, dtype: int64\n",
      "   empno  ename\n",
      "0    101   rama\n",
      "1    102  ramya\n",
      "2    103  shree\n",
      "3    104    ram\n",
      "4    105  kiran\n"
     ]
    }
   ],
   "source": [
    "print(df['empno'])\n",
    "print(df[['empno','ename']])"
   ]
  },
  {
   "cell_type": "code",
   "execution_count": 6,
   "id": "1e33e94c",
   "metadata": {},
   "outputs": [
    {
     "name": "stdout",
     "output_type": "stream",
     "text": [
      "   empno  ename qualification subject  salary\n",
      "0    101   rama            be      cs   60000\n",
      "1    102  ramya       diploma      me   80000\n",
      "2    103  shree          mtec      ec   50000\n",
      "3    104    ram           bsc      at   20000\n",
      "4    105  kiran           msc      ce   40000\n"
     ]
    }
   ],
   "source": [
    "df['salary']=[60000,80000,50000,20000,40000]\n",
    "print(df)"
   ]
  },
  {
   "cell_type": "code",
   "execution_count": 7,
   "id": "7c263bb1",
   "metadata": {},
   "outputs": [
    {
     "name": "stdout",
     "output_type": "stream",
     "text": [
      "   empno  ename qualification subject  salary  age\n",
      "0    101   rama            be      cs   60000   23\n",
      "1    102  ramya       diploma      me   80000   43\n",
      "2    103  shree          mtec      ec   50000   25\n",
      "3    104    ram           bsc      at   20000   19\n",
      "4    105  kiran           msc      ce   40000   45\n"
     ]
    }
   ],
   "source": [
    "df['age']=[23,43,25,19,45]\n",
    "print(df)"
   ]
  },
  {
   "cell_type": "code",
   "execution_count": 8,
   "id": "42b94a1c",
   "metadata": {},
   "outputs": [
    {
     "name": "stdout",
     "output_type": "stream",
     "text": [
      "   empno  ename qualification subject  salary  age\n",
      "0    101   rama            be      cs   60000   23\n",
      "2    103  shree          mtec      ec   50000   25\n",
      "3    104    ram           bsc      at   20000   19\n"
     ]
    }
   ],
   "source": [
    "young_people=df[df['age']<30]\n",
    "print(young_people)"
   ]
  },
  {
   "cell_type": "code",
   "execution_count": 9,
   "id": "0cd124de",
   "metadata": {},
   "outputs": [
    {
     "name": "stdout",
     "output_type": "stream",
     "text": [
      "   empno ename qualification subject  salary  age\n",
      "3    104   ram           bsc      at   20000   19\n"
     ]
    }
   ],
   "source": [
    "highest_salary=df[df['salary']<40000]\n",
    "print(highest_salary)"
   ]
  },
  {
   "cell_type": "code",
   "execution_count": 12,
   "id": "02c53418",
   "metadata": {},
   "outputs": [
    {
     "name": "stdout",
     "output_type": "stream",
     "text": [
      "   empno  ename qualification subject  salary  age\n",
      "3    104    ram           bsc      at   20000   19\n",
      "0    101   rama            be      cs   60000   23\n",
      "2    103  shree          mtec      ec   50000   25\n",
      "1    102  ramya       diploma      me   80000   43\n",
      "4    105  kiran           msc      ce   40000   45\n"
     ]
    }
   ],
   "source": [
    "sorted_df=df.sort_values(by='age')\n",
    "print(sorted_df)"
   ]
  },
  {
   "cell_type": "code",
   "execution_count": null,
   "id": "257c30ea",
   "metadata": {},
   "outputs": [],
   "source": []
  }
 ],
 "metadata": {
  "kernelspec": {
   "display_name": "Python 3 (ipykernel)",
   "language": "python",
   "name": "python3"
  },
  "language_info": {
   "codemirror_mode": {
    "name": "ipython",
    "version": 3
   },
   "file_extension": ".py",
   "mimetype": "text/x-python",
   "name": "python",
   "nbconvert_exporter": "python",
   "pygments_lexer": "ipython3",
   "version": "3.11.4"
  }
 },
 "nbformat": 4,
 "nbformat_minor": 5
}
